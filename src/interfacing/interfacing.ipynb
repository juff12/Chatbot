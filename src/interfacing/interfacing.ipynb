{
 "cells": [
  {
   "cell_type": "code",
   "execution_count": null,
   "metadata": {},
   "outputs": [],
   "source": [
    "from chatbot import Chatbot"
   ]
  },
  {
   "cell_type": "code",
   "execution_count": null,
   "metadata": {},
   "outputs": [],
   "source": [
    "# hyperparameters\n",
    "base_model = 'NousResearch/Meta-Llama-3-8B'\n",
    "prompt_format = 'llama'\n",
    "device_map = 'cuda:0'\n",
    "trained_model = ''"
   ]
  },
  {
   "cell_type": "code",
   "execution_count": null,
   "metadata": {},
   "outputs": [],
   "source": [
    "# load the chatbot\n",
    "chatbot = Chatbot(base_model, trained_model, device=device_map, format=prompt_format)"
   ]
  },
  {
   "cell_type": "code",
   "execution_count": null,
   "metadata": {},
   "outputs": [],
   "source": [
    "# Run text generation pipeline with model\n",
    "prompt = \"Tell me about yourself.\"\n",
    "result = chatbot.generate(prompt)\n",
    "print(\"Prompt: \", prompt)\n",
    "print(\"Response: \", result)"
   ]
  }
 ],
 "metadata": {
  "kernelspec": {
   "display_name": "torchgpuenv",
   "language": "python",
   "name": "python3"
  },
  "language_info": {
   "codemirror_mode": {
    "name": "ipython",
    "version": 3
   },
   "file_extension": ".py",
   "mimetype": "text/x-python",
   "name": "python",
   "nbconvert_exporter": "python",
   "pygments_lexer": "ipython3",
   "version": "3.8.19"
  }
 },
 "nbformat": 4,
 "nbformat_minor": 2
}
