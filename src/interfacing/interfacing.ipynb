{
 "cells": [
  {
   "cell_type": "code",
   "execution_count": null,
   "metadata": {},
   "outputs": [],
   "source": [
    "from deepmultilingualpunctuation import PunctuationModel\n",
    "from chatbot import Chatbot"
   ]
  },
  {
   "cell_type": "code",
   "execution_count": null,
   "metadata": {},
   "outputs": [],
   "source": [
    "# Load punctuation model\n",
    "punc_model = PunctuationModel()"
   ]
  },
  {
   "cell_type": "code",
   "execution_count": null,
   "metadata": {},
   "outputs": [],
   "source": [
    "def output_formating(text, punc_model):\n",
    "    # replace the ellipsis with '--'\n",
    "    text = text.replace('...', '--')\n",
    "    # restore the punctuation\n",
    "    text = punc_model.restore_punctuation(text)\n",
    "    # remove the last sentence if it ends with a punctuation\n",
    "    for i in range(len(text)-1, -1, -1):\n",
    "        if text[i] in ['!', '?', '.']:\n",
    "            return text[:i+1].replace('--','...')\n",
    "    # restore the ellipsis\n",
    "    return text.replace('--','...') + '...'"
   ]
  },
  {
   "cell_type": "code",
   "execution_count": null,
   "metadata": {},
   "outputs": [],
   "source": [
    "def test_generate(prompt, pipe):\n",
    "    result = pipe(\n",
    "        prompt,\n",
    "        do_sample=True,\n",
    "        temperature=0.7,\n",
    "        penalty_alpha=0.65,\n",
    "        top_k=4,\n",
    "        max_length=64,\n",
    "        num_return_sequences=1,\n",
    "        no_repeat_ngram_size=1\n",
    "    )\n",
    "    return result[0]['generated_text']"
   ]
  },
  {
   "cell_type": "code",
   "execution_count": null,
   "metadata": {},
   "outputs": [],
   "source": [
    "# hyperparameters\n",
    "base_model = 'NousResearch/Meta-Llama-3-8B'\n",
    "prompt_format = 'llama'\n",
    "device_map = 'cuda:0'\n",
    "trained_model = ''"
   ]
  },
  {
   "cell_type": "code",
   "execution_count": null,
   "metadata": {},
   "outputs": [],
   "source": [
    "# Load punctuation model\n",
    "punc_model = PunctuationModel()\n",
    "\n",
    "# load the chatbot\n",
    "chatbot = Chatbot(base_model, trained_model, device=device_map, format=prompt_format)"
   ]
  },
  {
   "cell_type": "code",
   "execution_count": null,
   "metadata": {},
   "outputs": [],
   "source": [
    "# Run text generation pipeline with model\n",
    "prompt = \"Tell me about yourself.\"\n",
    "result = chatbot.generate(prompt)\n",
    "print(\"Prompt: \", prompt)\n",
    "print(\"Response: \", result)"
   ]
  }
 ],
 "metadata": {
  "kernelspec": {
   "display_name": "torchgpuenv",
   "language": "python",
   "name": "python3"
  },
  "language_info": {
   "codemirror_mode": {
    "name": "ipython",
    "version": 3
   },
   "file_extension": ".py",
   "mimetype": "text/x-python",
   "name": "python",
   "nbconvert_exporter": "python",
   "pygments_lexer": "ipython3",
   "version": "3.8.19"
  }
 },
 "nbformat": 4,
 "nbformat_minor": 2
}
