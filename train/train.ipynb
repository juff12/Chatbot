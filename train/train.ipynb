{
 "cells": [
  {
   "cell_type": "code",
   "execution_count": null,
   "id": "5db55644-b206-4906-af4b-0bc4e34e6e9b",
   "metadata": {},
   "outputs": [],
   "source": [
    "%%capture\n",
    "%pip install accelerate peft bitsandbytes trl peft transformers==4.38.2"
   ]
  },
  {
   "cell_type": "code",
   "execution_count": null,
   "id": "69ff3a72-2893-4f14-8f9a-737b5ceb33c1",
   "metadata": {},
   "outputs": [],
   "source": [
    "import os\n",
    "import torch\n",
    "from datasets import load_dataset\n",
    "from transformers import (\n",
    "    AutoModelForCausalLM,\n",
    "    AutoTokenizer,\n",
    "    BitsAndBytesConfig,\n",
    "    TrainingArguments,\n",
    ")\n",
    "from peft import LoraConfig\n",
    "from trl import SFTTrainer"
   ]
  },
  {
   "cell_type": "code",
   "execution_count": null,
   "id": "19b3f231-abc3-44b9-896a-86095f8b2b13",
   "metadata": {},
   "outputs": [],
   "source": [
    "model_name = 'NousResearch/Meta-Llama-3-8B' # The model to fine-tune, 'NousResearch/Meta-Llama-3-8B', 'NousResearch/Llama-2-7b-hf', 'NousResearch/Llama-2-7b-chat-hf',\n",
    "dataset_name = \"final_data.json\" # The instruction dataset to use\n",
    "new_model = 'your-new-model-name' # Fine-tuned model name"
   ]
  },
  {
   "cell_type": "code",
   "execution_count": null,
   "id": "6c8dadf5",
   "metadata": {},
   "outputs": [],
   "source": [
    "use_4bit = True # Use 4-bit quantization"
   ]
  },
  {
   "cell_type": "code",
   "execution_count": null,
   "id": "8b9a6c58-0e1f-47af-8e45-deb404eb294b",
   "metadata": {},
   "outputs": [],
   "source": [
    "# Load tokenizer and model with QLoRA configuration\n",
    "compute_dtype = getattr(torch, 'float16')\n",
    "\n",
    "bnb_config = BitsAndBytesConfig(\n",
    "    load_in_4bit=True, # Activate 4-bit precision base model loading\n",
    "    bnb_4bit_quant_type='nf4', # Quantization type (fp4 or nf4)\n",
    "    bnb_4bit_compute_dtype=compute_dtype, # Compute dtype for 4-bit base models\n",
    "    bnb_4bit_use_double_quant=False, # Activate nested quantization for 4-bit base models (double quantization)\n",
    ")"
   ]
  },
  {
   "cell_type": "code",
   "execution_count": null,
   "id": "664836b7-6928-4ea7-8645-51fadcf379ae",
   "metadata": {},
   "outputs": [],
   "source": [
    "# Check GPU compatibility with bfloat16\n",
    "if compute_dtype == torch.float16 and use_4bit:\n",
    "    major, _ = torch.cuda.get_device_capability()\n",
    "    if major >= 8:\n",
    "        print(\"=\" * 80)\n",
    "        print(\"Your GPU supports bfloat16: accelerate training with bf16=True\")\n",
    "        print(\"=\" * 80)\n",
    "\n",
    "# Load base model\n",
    "model = AutoModelForCausalLM.from_pretrained(\n",
    "    model_name,\n",
    "    quantization_config=bnb_config,\n",
    "    device_map='auto',\n",
    ")\n",
    "\n",
    "model.config.use_cache = False\n",
    "model.config.pretraining_tp = 1\n",
    "\n",
    "# Load tokenizer\n",
    "tokenizer = AutoTokenizer.from_pretrained(model_name, trust_remote_code=True)\n",
    "tokenizer.pad_token = tokenizer.eos_token\n",
    "tokenizer.padding_side = \"right\" # Fix weird overflow issue with fp16 training"
   ]
  },
  {
   "cell_type": "code",
   "execution_count": null,
   "id": "437f03d4-620c-437a-975a-7fbe1140fb73",
   "metadata": {},
   "outputs": [],
   "source": [
    "def generate_and_tokenize_prompt(prompt):\n",
    "    return tokenizer(prompt['text'])"
   ]
  },
  {
   "cell_type": "code",
   "execution_count": null,
   "id": "2126ad38-21e0-4f50-9b11-b3c373c7b1e2",
   "metadata": {},
   "outputs": [],
   "source": [
    "data = load_dataset(\"json\", data_files=dataset_name)"
   ]
  },
  {
   "cell_type": "code",
   "execution_count": null,
   "id": "2cd77085-a51c-4e6b-96ab-e3e832f930f6",
   "metadata": {},
   "outputs": [],
   "source": [
    "dataset = data['train'].map(generate_and_tokenize_prompt)"
   ]
  },
  {
   "cell_type": "code",
   "execution_count": null,
   "id": "a7648362-04fb-4b45-a1ff-01cabe00d2ab",
   "metadata": {},
   "outputs": [],
   "source": [
    "# Load LoRA configuration\n",
    "peft_config = LoraConfig(\n",
    "    lora_alpha=64,\n",
    "    r=64,\n",
    "    lora_dropout=0.1,\n",
    "    bias=\"none\",\n",
    "    target_modules=[\"q_proj\", \"v_proj\", \"k_proj\"],\n",
    "    modules_to_save=[\"embed_tokens\", \"lm_head\"],\n",
    "    task_type=\"CAUSAL_LM\",\n",
    ")"
   ]
  },
  {
   "cell_type": "code",
   "execution_count": null,
   "id": "37dd9849-167c-459d-bb53-ac69292f645d",
   "metadata": {},
   "outputs": [],
   "source": [
    "# Set training parameters\n",
    "training_arguments = TrainingArguments(\n",
    "    output_dir='./results',\n",
    "    num_train_epochs=1,\n",
    "    per_device_train_batch_size=8, # Batch size per GPU for training\n",
    "    gradient_accumulation_steps=1, # Number of update steps to accumulate the gradients for\n",
    "    optim='paged_adamw_32bit', # Optimizer to use\n",
    "    save_steps=10000, # Save checkpoint every X updates steps\n",
    "    logging_steps=250, # Log every X updates steps\n",
    "    learning_rate=2e-4, # Initial learning rate (AdamW optimizer)\n",
    "    weight_decay=0.001, # Weight decay to apply to all layers except bias/LayerNorm weights\n",
    "    fp16=False,\n",
    "    bf16=True, # Enable fp16/bf16 training (set bf16 to True with an A100)\n",
    "    max_grad_norm=0.3, # Maximum gradient normal (gradient clipping),\n",
    "    max_steps=-1, # Number of training steps (overrides num_train_epochs),\n",
    "    warmup_ratio=0.05, # Ratio of steps for a linear warmup (from 0 to learning rate),\n",
    "    group_by_length=True, # Group sequences into batches with same length,\n",
    "    lr_scheduler_type=\"constant\", # Learning rate schedule (constant a bit better than cosine),\n",
    ")\n",
    "\n",
    "# Set supervised fine-tuning parameters\n",
    "trainer = SFTTrainer(\n",
    "    model=model,\n",
    "    train_dataset=dataset,\n",
    "    peft_config=peft_config,\n",
    "    dataset_text_field=\"text\",\n",
    "    max_seq_length=2048,\n",
    "    tokenizer=tokenizer,\n",
    "    args=training_arguments,\n",
    "    packing=False,\n",
    ")\n",
    "\n",
    "# Train model\n",
    "trainer.train()\n",
    "\n",
    "# Save trained model\n",
    "trainer.model.save_pretrained(new_model)"
   ]
  }
 ],
 "metadata": {
  "kernelspec": {
   "display_name": "Python 3 (ipykernel)",
   "language": "python",
   "name": "python3"
  },
  "language_info": {
   "codemirror_mode": {
    "name": "ipython",
    "version": 3
   },
   "file_extension": ".py",
   "mimetype": "text/x-python",
   "name": "python",
   "nbconvert_exporter": "python",
   "pygments_lexer": "ipython3",
   "version": "3.10.12"
  }
 },
 "nbformat": 4,
 "nbformat_minor": 5
}
